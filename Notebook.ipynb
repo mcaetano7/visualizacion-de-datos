{
 "cells": [
  {
   "cell_type": "code",
   "execution_count": null,
   "id": "0d472092",
   "metadata": {},
   "outputs": [],
   "source": [
    "#1.1 cargar y explorar eutic 2022\n",
    "import pandas as pd\n",
    "\n",
    "df = pd.read_csv(\"EUTIC_encuesta-2022.csv\", encoding=\"latin1\")\n",
    "df.head()\n",
    "\n",
    "# 1.2 cantidad de variables y registros\n",
    "print(\"Cantidad de registros:\", df.shape[0])\n",
    "print(\"Cantidad de variables:\", df.shape[1])\n",
    "\n",
    "#1.3 hogares con computadora\n",
    "# Suponiendo que 1 = tiene, 0 = no tiene\n",
    "porcentaje_pc = df[df['hogar_tiene_pc'] == 1].shape[0] / df.shape[0] * 100\n",
    "print(f\"Porcentaje de hogares con computadora: {porcentaje_pc:.2f}%\")\n",
    "\n",
    "\n",
    "#1.4 hogares con pc segun quintil\n",
    "por_quintil = df.groupby('quintil_sociocultural')['hogar_tiene_pc'].mean() * 100\n",
    "por_quintil.plot(kind='bar', title='Porcentaje de hogares con PC por quintil')\n",
    "\n",
    "#1.5 menor [rocetanej hogares con pc por departamento\n",
    "por_departamento = df.groupby('departamento')['hogar_tiene_pc'].mean() * 100\n",
    "por_departamento.sort_values().plot(kind='barh', title='Porcentaje de hogares con PC por departamento')\n",
    "\n",
    "# Departamento con menor porcentaje\n",
    "print(\"Departamento con menor porcentaje:\", por_departamento.idxmin())\n",
    "\n",
    "#1.6 hogares con dispositivo ceibal \n",
    "# Suponiendo que 'ceibal' es 1 si tiene\n",
    "hogares_con_pc = df[df['hogar_tiene_pc'] == 1]\n",
    "con_ceibal = hogares_con_pc[hogares_con_pc['dispositivo_ceibal'] == 1].shape[0]\n",
    "\n",
    "print(f\"Hogares con PC y dispositivo Ceibal: {con_ceibal}\")"
   ]
  }
 ],
 "metadata": {
  "language_info": {
   "name": "python"
  }
 },
 "nbformat": 4,
 "nbformat_minor": 5
}
